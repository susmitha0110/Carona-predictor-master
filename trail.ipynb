{
 "cells": [
  {
   "cell_type": "code",
   "execution_count": 1,
   "metadata": {},
   "outputs": [],
   "source": [
    "import pandas as pd\n",
    "import pylab as pl\n",
    "import numpy as np\n",
    "import scipy.optimize as opt\n",
    "from sklearn import preprocessing\n",
    "%matplotlib inline \n"
   ]
  },
  {
   "cell_type": "code",
   "execution_count": 24,
   "metadata": {},
   "outputs": [],
   "source": [
    "data = pd.read_csv(\"carona.csv\")"
   ]
  },
  {
   "cell_type": "code",
   "execution_count": 25,
   "metadata": {},
   "outputs": [
    {
     "name": "stdout",
     "output_type": "stream",
     "text": [
      "<class 'pandas.core.frame.DataFrame'>\n",
      "RangeIndex: 131 entries, 0 to 130\n",
      "Data columns (total 9 columns):\n",
      " #   Column        Non-Null Count  Dtype  \n",
      "---  ------        --------------  -----  \n",
      " 0   fiver         131 non-null    int64  \n",
      " 1   breath        131 non-null    int64  \n",
      " 2   coughing      131 non-null    int64  \n",
      " 3   cold          131 non-null    int64  \n",
      " 4   discomfort    131 non-null    int64  \n",
      " 5   age           131 non-null    int64  \n",
      " 6   sex           131 non-null    int64  \n",
      " 7   infectionper  131 non-null    int64  \n",
      " 8   Unnamed: 8    0 non-null      float64\n",
      "dtypes: float64(1), int64(8)\n",
      "memory usage: 9.3 KB\n"
     ]
    }
   ],
   "source": [
    "data.info()"
   ]
  },
  {
   "cell_type": "code",
   "execution_count": 26,
   "metadata": {},
   "outputs": [
    {
     "data": {
      "text/html": [
       "<div>\n",
       "<style scoped>\n",
       "    .dataframe tbody tr th:only-of-type {\n",
       "        vertical-align: middle;\n",
       "    }\n",
       "\n",
       "    .dataframe tbody tr th {\n",
       "        vertical-align: top;\n",
       "    }\n",
       "\n",
       "    .dataframe thead th {\n",
       "        text-align: right;\n",
       "    }\n",
       "</style>\n",
       "<table border=\"1\" class=\"dataframe\">\n",
       "  <thead>\n",
       "    <tr style=\"text-align: right;\">\n",
       "      <th></th>\n",
       "      <th>fiver</th>\n",
       "      <th>breath</th>\n",
       "      <th>coughing</th>\n",
       "      <th>cold</th>\n",
       "      <th>discomfort</th>\n",
       "      <th>age</th>\n",
       "      <th>sex</th>\n",
       "      <th>infectionper</th>\n",
       "      <th>Unnamed: 8</th>\n",
       "    </tr>\n",
       "  </thead>\n",
       "  <tbody>\n",
       "    <tr>\n",
       "      <th>0</th>\n",
       "      <td>1</td>\n",
       "      <td>1</td>\n",
       "      <td>1</td>\n",
       "      <td>1</td>\n",
       "      <td>1</td>\n",
       "      <td>60</td>\n",
       "      <td>1</td>\n",
       "      <td>1</td>\n",
       "      <td>NaN</td>\n",
       "    </tr>\n",
       "    <tr>\n",
       "      <th>1</th>\n",
       "      <td>1</td>\n",
       "      <td>1</td>\n",
       "      <td>1</td>\n",
       "      <td>0</td>\n",
       "      <td>1</td>\n",
       "      <td>30</td>\n",
       "      <td>1</td>\n",
       "      <td>1</td>\n",
       "      <td>NaN</td>\n",
       "    </tr>\n",
       "    <tr>\n",
       "      <th>2</th>\n",
       "      <td>1</td>\n",
       "      <td>1</td>\n",
       "      <td>0</td>\n",
       "      <td>0</td>\n",
       "      <td>1</td>\n",
       "      <td>60</td>\n",
       "      <td>1</td>\n",
       "      <td>1</td>\n",
       "      <td>NaN</td>\n",
       "    </tr>\n",
       "    <tr>\n",
       "      <th>3</th>\n",
       "      <td>1</td>\n",
       "      <td>1</td>\n",
       "      <td>0</td>\n",
       "      <td>1</td>\n",
       "      <td>1</td>\n",
       "      <td>40</td>\n",
       "      <td>1</td>\n",
       "      <td>1</td>\n",
       "      <td>NaN</td>\n",
       "    </tr>\n",
       "    <tr>\n",
       "      <th>4</th>\n",
       "      <td>1</td>\n",
       "      <td>1</td>\n",
       "      <td>0</td>\n",
       "      <td>0</td>\n",
       "      <td>1</td>\n",
       "      <td>52</td>\n",
       "      <td>0</td>\n",
       "      <td>1</td>\n",
       "      <td>NaN</td>\n",
       "    </tr>\n",
       "  </tbody>\n",
       "</table>\n",
       "</div>"
      ],
      "text/plain": [
       "   fiver  breath  coughing  cold  discomfort  age  sex  infectionper  \\\n",
       "0      1       1         1     1           1   60    1             1   \n",
       "1      1       1         1     0           1   30    1             1   \n",
       "2      1       1         0     0           1   60    1             1   \n",
       "3      1       1         0     1           1   40    1             1   \n",
       "4      1       1         0     0           1   52    0             1   \n",
       "\n",
       "   Unnamed: 8  \n",
       "0         NaN  \n",
       "1         NaN  \n",
       "2         NaN  \n",
       "3         NaN  \n",
       "4         NaN  "
      ]
     },
     "execution_count": 26,
     "metadata": {},
     "output_type": "execute_result"
    }
   ],
   "source": [
    "data.head()"
   ]
  },
  {
   "cell_type": "code",
   "execution_count": 27,
   "metadata": {},
   "outputs": [
    {
     "data": {
      "text/plain": [
       "Index(['fiver', 'breath', 'coughing', 'cold', 'discomfort', 'age', 'sex',\n",
       "       'infectionper', 'Unnamed: 8'],\n",
       "      dtype='object')"
      ]
     },
     "execution_count": 27,
     "metadata": {},
     "output_type": "execute_result"
    }
   ],
   "source": [
    "data.keys()"
   ]
  },
  {
   "cell_type": "code",
   "execution_count": 28,
   "metadata": {},
   "outputs": [],
   "source": [
    "data = data[['fiver', 'breath', 'coughing', 'cold', 'discomfort', 'age', 'sex',\n",
    "       'infectionper']]"
   ]
  },
  {
   "cell_type": "code",
   "execution_count": 29,
   "metadata": {},
   "outputs": [
    {
     "name": "stdout",
     "output_type": "stream",
     "text": [
      "<class 'pandas.core.frame.DataFrame'>\n",
      "RangeIndex: 131 entries, 0 to 130\n",
      "Data columns (total 8 columns):\n",
      " #   Column        Non-Null Count  Dtype\n",
      "---  ------        --------------  -----\n",
      " 0   fiver         131 non-null    int64\n",
      " 1   breath        131 non-null    int64\n",
      " 2   coughing      131 non-null    int64\n",
      " 3   cold          131 non-null    int64\n",
      " 4   discomfort    131 non-null    int64\n",
      " 5   age           131 non-null    int64\n",
      " 6   sex           131 non-null    int64\n",
      " 7   infectionper  131 non-null    int64\n",
      "dtypes: int64(8)\n",
      "memory usage: 8.2 KB\n"
     ]
    }
   ],
   "source": [
    "data.info()"
   ]
  },
  {
   "cell_type": "code",
   "execution_count": 30,
   "metadata": {},
   "outputs": [],
   "source": [
    "np.random.seed(42)\n",
    "shuffled = np.random.permutation(len(data))"
   ]
  },
  {
   "cell_type": "code",
   "execution_count": 36,
   "metadata": {},
   "outputs": [
    {
     "data": {
      "text/plain": [
       "array([ 55,  40,  19,  31, 115,  56,  69, 105,  81,  26,  95,  27,  64,\n",
       "         4,  97, 100,  36,  80,  93,  84,  18,  10, 122,  11, 127,  45,\n",
       "        70,  78,  47,   0,  12,  42,  51,  24,  67, 113,  89,  15,  77,\n",
       "        22,  44,  65,  96,  30,  62, 125,   9,  33,  66,  25, 118,  28,\n",
       "        98, 129,  53,   5,  68,  73,  39,  49,  35,  16, 126,  34,  85,\n",
       "         7,  43,  76, 104, 110,   8,  13,  94,   3,  17,  38,  72, 101,\n",
       "         6,  83, 112, 114,  54,  50, 120,  46, 108,  61, 128,  79, 123,\n",
       "        91,  41,  58,  90,  48,  88, 111,  57,  75,  32, 124,  59,  63,\n",
       "       109,  37,  29, 107, 117,   1,  52,  21,   2,  23, 103,  99, 116,\n",
       "        87, 119,  74,  86,  82, 121, 130,  20,  60,  71, 106,  14,  92,\n",
       "       102])"
      ]
     },
     "execution_count": 36,
     "metadata": {},
     "output_type": "execute_result"
    }
   ],
   "source": [
    "shuffled"
   ]
  },
  {
   "cell_type": "code",
   "execution_count": 10,
   "metadata": {},
   "outputs": [],
   "source": [
    "X = np.asarray(data[['fiver','breath','coughing', 'cold', 'discomfort', 'age', 'sex']])"
   ]
  },
  {
   "cell_type": "code",
   "execution_count": 11,
   "metadata": {},
   "outputs": [
    {
     "data": {
      "text/plain": [
       "array([[ 1,  1,  1,  0,  1, 30,  1],\n",
       "       [ 1,  1,  0,  0,  1, 60,  1],\n",
       "       [ 1,  1,  0,  1,  1, 40,  1],\n",
       "       [ 1,  1,  0,  0,  1, 52,  0],\n",
       "       [ 0,  1,  1,  0,  1, 65,  0],\n",
       "       [ 0,  1,  1,  0,  1, 45,  1],\n",
       "       [ 1,  1,  1,  0,  1, 78,  0],\n",
       "       [ 0,  1,  0,  0,  1, 57,  1],\n",
       "       [ 1,  1,  0,  1,  1, 55,  0],\n",
       "       [ 1,  0,  0,  0,  1, 60,  1],\n",
       "       [ 1,  1,  0,  0,  1, 84,  1]], dtype=int64)"
      ]
     },
     "execution_count": 11,
     "metadata": {},
     "output_type": "execute_result"
    }
   ],
   "source": [
    "X[1:12]"
   ]
  },
  {
   "cell_type": "code",
   "execution_count": 12,
   "metadata": {},
   "outputs": [],
   "source": [
    "y = np.asarray(data[['infectionper']])"
   ]
  },
  {
   "cell_type": "code",
   "execution_count": 13,
   "metadata": {},
   "outputs": [
    {
     "data": {
      "text/plain": [
       "array([[1],\n",
       "       [1],\n",
       "       [1],\n",
       "       [1],\n",
       "       [1],\n",
       "       [1],\n",
       "       [1],\n",
       "       [1],\n",
       "       [1],\n",
       "       [1],\n",
       "       [1]], dtype=int64)"
      ]
     },
     "execution_count": 13,
     "metadata": {},
     "output_type": "execute_result"
    }
   ],
   "source": [
    "y[1:12]"
   ]
  },
  {
   "cell_type": "code",
   "execution_count": 14,
   "metadata": {},
   "outputs": [],
   "source": [
    "from sklearn import preprocessing\n",
    "X = preprocessing.StandardScaler().fit(X).transform(X)"
   ]
  },
  {
   "cell_type": "code",
   "execution_count": 15,
   "metadata": {},
   "outputs": [
    {
     "data": {
      "text/plain": [
       "array([[ 1.03892496,  0.96253342,  0.77302068, -0.74801324,  1.03892496,\n",
       "        -0.95198305,  0.6990253 ],\n",
       "       [ 1.03892496,  0.96253342, -1.29362645, -0.74801324,  1.03892496,\n",
       "         0.27951576,  0.6990253 ],\n",
       "       [ 1.03892496,  0.96253342, -1.29362645,  1.33687473,  1.03892496,\n",
       "        -0.54148344,  0.6990253 ],\n",
       "       [ 1.03892496,  0.96253342, -1.29362645, -0.74801324,  1.03892496,\n",
       "        -0.04888392, -1.4305634 ],\n",
       "       [-0.96253342,  0.96253342,  0.77302068, -0.74801324,  1.03892496,\n",
       "         0.48476556, -1.4305634 ],\n",
       "       [-0.96253342,  0.96253342,  0.77302068, -0.74801324,  1.03892496,\n",
       "        -0.33623364,  0.6990253 ],\n",
       "       [ 1.03892496,  0.96253342,  0.77302068, -0.74801324,  1.03892496,\n",
       "         1.01841504, -1.4305634 ],\n",
       "       [-0.96253342,  0.96253342, -1.29362645, -0.74801324,  1.03892496,\n",
       "         0.15636588,  0.6990253 ],\n",
       "       [ 1.03892496,  0.96253342, -1.29362645,  1.33687473,  1.03892496,\n",
       "         0.07426596, -1.4305634 ],\n",
       "       [ 1.03892496, -1.03892496, -1.29362645, -0.74801324,  1.03892496,\n",
       "         0.27951576,  0.6990253 ],\n",
       "       [ 1.03892496,  0.96253342, -1.29362645, -0.74801324,  1.03892496,\n",
       "         1.2647148 ,  0.6990253 ]])"
      ]
     },
     "execution_count": 15,
     "metadata": {},
     "output_type": "execute_result"
    }
   ],
   "source": [
    "X[1:12]"
   ]
  },
  {
   "cell_type": "code",
   "execution_count": 16,
   "metadata": {},
   "outputs": [
    {
     "name": "stdout",
     "output_type": "stream",
     "text": [
      "Train set: (104, 7) (104, 1)\n",
      "Test set: (27, 7) (27, 1)\n"
     ]
    }
   ],
   "source": [
    "from sklearn.model_selection import train_test_split\n",
    "\n",
    "X_train, X_test, y_train, y_test = train_test_split( X, y, test_size=0.2, random_state=4)\n",
    "print ('Train set:', X_train.shape,  y_train.shape)\n",
    "print ('Test set:', X_test.shape,  y_test.shape)"
   ]
  },
  {
   "cell_type": "code",
   "execution_count": 17,
   "metadata": {},
   "outputs": [],
   "source": [
    "from sklearn.linear_model import LogisticRegression\n"
   ]
  }
 ],
 "metadata": {
  "kernelspec": {
   "display_name": "Python 3",
   "language": "python",
   "name": "python3"
  },
  "language_info": {
   "codemirror_mode": {
    "name": "ipython",
    "version": 3
   },
   "file_extension": ".py",
   "mimetype": "text/x-python",
   "name": "python",
   "nbconvert_exporter": "python",
   "pygments_lexer": "ipython3",
   "version": "3.7.4"
  }
 },
 "nbformat": 4,
 "nbformat_minor": 4
}
